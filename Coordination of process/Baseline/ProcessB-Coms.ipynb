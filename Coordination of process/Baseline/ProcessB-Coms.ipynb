{
 "cells": [
  {
   "cell_type": "markdown",
   "metadata": {},
   "source": [
    "# Lamport clocks in python"
   ]
  },
  {
   "cell_type": "code",
   "execution_count": 1,
   "metadata": {},
   "outputs": [
    {
     "name": "stdout",
     "output_type": "stream",
     "text": [
      "listens:  tcp://127.0.0.1:6782\n"
     ]
    }
   ],
   "source": [
    "import zmq\n",
    "import pickle\n",
    "context = zmq.Context() \n",
    "name=\"B\"\n",
    "other_processes=[\"A\",\"C\"]\n",
    "urlA=\"tcp://\"+ \"127.0.0.1\" +\":\"+ \"6781\"   \n",
    "urlB=\"tcp://\"+ \"127.0.0.1\" +\":\"+ \"6782\" \n",
    "urlC=\"tcp://\"+ \"127.0.0.1\" +\":\"+ \"6783\" \n",
    "urls={\"A\":urlA,\"B\":urlB,\"C\":urlC}\n",
    "\n",
    "sockets_send={}\n",
    "sockets_send[name] = context.socket(zmq.PUSH)\n",
    "sockets_send[name].connect(urls[name])\n",
    "\n",
    "for i in other_processes:\n",
    "    sockets_send[i] = context.socket(zmq.PUSH)\n",
    "    sockets_send[i].connect(urls[i])\n",
    "\n",
    "socket_receive = context.socket(zmq.PULL)\n",
    "print(\"listens: \",urls[name])\n",
    "socket_receive.bind(urls[name])"
   ]
  },
  {
   "cell_type": "code",
   "execution_count": 2,
   "metadata": {},
   "outputs": [],
   "source": [
    "def send_msg_request( p, m):\n",
    "    print(\" - Sent message from {} to {}\".format(\"B\",p))\n",
    "    print(\" sent to \",urls[p])\n",
    "    sockets_send[p].send(pickle.dumps((m))) # not blocking if socket PULL is up and listening"
   ]
  },
  {
   "cell_type": "code",
   "execution_count": 3,
   "metadata": {},
   "outputs": [],
   "source": [
    "from multiprocessing import Queue\n",
    "queue=Queue()\n",
    "counter=0\n",
    "def read_msg_request(socket_receive):\n",
    "    global counter\n",
    "    while counter <10:\n",
    "        msg=pickle.loads(socket_receive.recv()) # blocks\n",
    "        if msg!=\"STOP\":\n",
    "            queue.put(msg)\n",
    "            print(\"Thread: put message into queue: \",msg)\n",
    "            send_msg_request( \"C\", \"HOLA C\")\n",
    "            counter=counter+1\n",
    "            print(\"Thread: sent message to A\")\n",
    "        else:\n",
    "            print(\"Stop receiving requests\")\n",
    "            socket_receive.close() \n",
    "            break"
   ]
  },
  {
   "cell_type": "code",
   "execution_count": 4,
   "metadata": {},
   "outputs": [],
   "source": [
    "import threading\n",
    "\n",
    "threading.Thread(target=read_msg_request, args=(socket_receive,)).start()"
   ]
  },
  {
   "cell_type": "code",
   "execution_count": 5,
   "metadata": {},
   "outputs": [
    {
     "name": "stdout",
     "output_type": "stream",
     "text": [
      " - Sent message from B to C\n",
      " sent to  tcp://127.0.0.1:6783\n",
      "Thread: put message into queue:  HOLA B\n",
      " - Sent message from B to C\n",
      " sent to  tcp://127.0.0.1:6783\n",
      "Thread: sent message to A\n",
      "Thread: put message into queue:  HOLA B\n",
      " - Sent message from B to C\n",
      " sent to  tcp://127.0.0.1:6783\n",
      "Thread: sent message to A\n",
      "Thread: put message into queue:  HOLA B\n",
      " - Sent message from B to C\n",
      " sent to  tcp://127.0.0.1:6783\n",
      "Thread: sent message to A\n",
      "Thread: put message into queue:  HOLA B\n",
      " - Sent message from B to C\n",
      " sent to  tcp://127.0.0.1:6783\n",
      "Thread: sent message to A\n",
      "Thread: put message into queue:  HOLA B\n",
      " - Sent message from B to C\n",
      " sent to  tcp://127.0.0.1:6783\n",
      "Thread: sent message to A\n",
      "Thread: put message into queue:  HOLA B\n",
      " - Sent message from B to C\n",
      " sent to  tcp://127.0.0.1:6783\n",
      "Thread: sent message to A\n",
      "Thread: put message into queue:  HOLA B\n",
      " - Sent message from B to C\n",
      " sent to  tcp://127.0.0.1:6783\n",
      "Thread: sent message to A\n",
      "Thread: put message into queue:  HOLA B\n",
      " - Sent message from B to C\n",
      " sent to  tcp://127.0.0.1:6783\n",
      "Thread: sent message to A\n",
      "Thread: put message into queue:  HOLA B\n",
      " - Sent message from B to C\n",
      " sent to  tcp://127.0.0.1:6783\n",
      "Thread: sent message to A\n",
      "Thread: put message into queue:  HOLA B\n",
      " - Sent message from B to C\n",
      " sent to  tcp://127.0.0.1:6783\n",
      "Thread: sent message to A\n"
     ]
    }
   ],
   "source": [
    "send_msg_request( \"C\", \"HOLA C\")"
   ]
  },
  {
   "cell_type": "code",
   "execution_count": null,
   "metadata": {},
   "outputs": [],
   "source": []
  }
 ],
 "metadata": {
  "kernelspec": {
   "display_name": "Python 3",
   "language": "python",
   "name": "python3"
  },
  "language_info": {
   "codemirror_mode": {
    "name": "ipython",
    "version": 3
   },
   "file_extension": ".py",
   "mimetype": "text/x-python",
   "name": "python",
   "nbconvert_exporter": "python",
   "pygments_lexer": "ipython3",
   "version": "3.7.6"
  }
 },
 "nbformat": 4,
 "nbformat_minor": 2
}
