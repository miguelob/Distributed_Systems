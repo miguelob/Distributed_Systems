{
 "cells": [
  {
   "cell_type": "markdown",
   "metadata": {},
   "source": [
    "# Python3 program imitating a client process (client 2)\n",
    "\n",
    "Code from https://www.geeksforgeeks.org/berkeleys-algorithm/\n",
    "\n",
    "Server must be initiated before clients"
   ]
  },
  {
   "cell_type": "markdown",
   "metadata": {},
   "source": [
    "This code start two threads:\n",
    "* First one is permanently sending local clock time to server\n",
    "* Second one is permanently receiving updates from server"
   ]
  },
  {
   "cell_type": "code",
   "execution_count": 1,
   "metadata": {},
   "outputs": [
    {
     "name": "stdout",
     "output_type": "stream",
     "text": [
      "Starting to receive time from server\n",
      "\n",
      "Starting to recieving synchronized time from server\n",
      "Recent time sent successfully\n",
      "\n",
      "\n",
      "Synchronized time at the client is: 2021-03-01 11:57:35.667786\n",
      "\n",
      "Recent time sent successfully\n",
      "\n",
      "Synchronized time at the client is: 2021-03-01 11:57:40.668895\n",
      "\n",
      "Recent time sent successfully\n",
      "\n"
     ]
    }
   ],
   "source": [
    "from timeit import default_timer as timer \n",
    "from dateutil import parser \n",
    "import threading \n",
    "import datetime \n",
    "import socket  \n",
    "import time \n",
    "\n",
    "# client thread function used to send time at client side  \n",
    "def startSendingTime(slave_client): \n",
    " \n",
    "    while True: \n",
    "        # provide server with clock time at the client \n",
    "        slave_client.send(str(datetime.datetime.now()).encode()) \n",
    "        print(\"Recent time sent successfully\",end = \"\\n\\n\") \n",
    "        time.sleep(5) \n",
    "\n",
    "# client thread function used to receive synchronized time \n",
    "def startReceivingTime(slave_client): \n",
    "  \n",
    "    while True: \n",
    "        # receive data from the server \n",
    "        Synchronized_time = parser.parse(slave_client.recv(1024).decode()) \n",
    "        print(\"Synchronized time at the client is: \" + str(Synchronized_time),end = \"\\n\\n\") \n",
    "  \n",
    "  \n",
    "# function used to Synchronize client process time \n",
    "def initiateSlaveClient(port = 8080): \n",
    "  \n",
    "    slave_client = socket.socket()           \n",
    "    # connect to the clock server on local computer  \n",
    "    slave_client.connect(('127.0.0.1', port))  \n",
    "  \n",
    "    # start sending time to server  \n",
    "    print(\"Starting to receive time from server\\n\") \n",
    "    send_time_thread = threading.Thread(target = startSendingTime,args = (slave_client, )) \n",
    "    send_time_thread.start() \n",
    "  \n",
    "  \n",
    "    # start recieving synchronized from server \n",
    "    print(\"Starting to recieving synchronized time from server\\n\") \n",
    "    receive_time_thread = threading.Thread(target = startReceivingTime,args = (slave_client, )) \n",
    "    receive_time_thread.start() \n",
    "  \n",
    "# Driver function \n",
    "if __name__ == '__main__': \n",
    "  \n",
    "    # initialize the Slave / Client \n",
    "    initiateSlaveClient(port = 8080)"
   ]
  },
  {
   "cell_type": "code",
   "execution_count": null,
   "metadata": {},
   "outputs": [],
   "source": []
  }
 ],
 "metadata": {
  "kernelspec": {
   "display_name": "Python 3",
   "language": "python",
   "name": "python3"
  },
  "language_info": {
   "codemirror_mode": {
    "name": "ipython",
    "version": 3
   },
   "file_extension": ".py",
   "mimetype": "text/x-python",
   "name": "python",
   "nbconvert_exporter": "python",
   "pygments_lexer": "ipython3",
   "version": "3.8.3"
  }
 },
 "nbformat": 4,
 "nbformat_minor": 2
}
