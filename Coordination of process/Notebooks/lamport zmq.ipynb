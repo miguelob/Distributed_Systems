{
 "cells": [
  {
   "cell_type": "markdown",
   "metadata": {},
   "source": [
    "# Lamport clocks in python"
   ]
  },
  {
   "cell_type": "markdown",
   "metadata": {},
   "source": [
    "Code from https://connorwstein.github.io/Lamport-Clocks/"
   ]
  },
  {
   "cell_type": "code",
   "execution_count": 1,
   "metadata": {},
   "outputs": [],
   "source": [
    "import signal\n",
    "import sys\n",
    "import time\n",
    "import threading\n",
    "import zmq\n",
    "import pickle\n",
    "from multiprocessing import Queue"
   ]
  },
  {
   "cell_type": "markdown",
   "metadata": {},
   "source": [
    "Let's simulate three process trying to access a shared resource  \n",
    "Variable **message_queues** will emulate message passing between process"
   ]
  },
  {
   "cell_type": "code",
   "execution_count": 2,
   "metadata": {},
   "outputs": [],
   "source": [
    "initially_granted_proc = \"A\"\n",
    "procs = {\"A\", \"B\", \"C\"}\n",
    "context = zmq.Context()\n",
    "resource_usage_counts = {\"A\": 0, \"B\": 0, \"C\": 0}\n",
    "#message_queues = {\"A\" : Queue(), \"B\": Queue(), \"C\": Queue()}\n",
    "urlA=\"tcp://\"+ \"127.0.0.1\" +\":\"+ \"6789\"   \n",
    "urlB=\"tcp://\"+ \"127.0.0.1\" +\":\"+ \"6788\" \n",
    "urlC=\"tcp://\"+ \"127.0.0.1\" +\":\"+ \"6787\" \n",
    "urls={\"A\":urlA,\"B\":urlB,\"C\":urlC}"
   ]
  },
  {
   "cell_type": "markdown",
   "metadata": {},
   "source": [
    "Let's define a Message class that just return a string with the message type, timestamp, sender and receiver"
   ]
  },
  {
   "cell_type": "code",
   "execution_count": 3,
   "metadata": {},
   "outputs": [],
   "source": [
    "class Message(object):\n",
    "    def __init__(self, msg_type, timestamp, sender, receiver):\n",
    "        self.msg_type = msg_type\n",
    "        self.timestamp = timestamp\n",
    "        self.sender = sender\n",
    "        self.receiver = receiver\n",
    "\n",
    "    def __repr__(self):\n",
    "        return \"Message {} at {} from {} to {}\".format(self.msg_type, self.timestamp, self.sender, self.receiver)"
   ]
  },
  {
   "cell_type": "markdown",
   "metadata": {},
   "source": [
    "Try the class with this simple example"
   ]
  },
  {
   "cell_type": "code",
   "execution_count": 4,
   "metadata": {},
   "outputs": [
    {
     "output_type": "stream",
     "name": "stdout",
     "text": [
      "Message request at 10h30 from Teacher to Student\nrequest\n10h30\nTeacher\nStudent\n"
     ]
    }
   ],
   "source": [
    "msg=Message(\"request\",\"10h30\",\"Teacher\",\"Student\")\n",
    "print(msg)\n",
    "print(msg.msg_type)\n",
    "print(msg.timestamp)\n",
    "print(msg.sender)\n",
    "print(msg.receiver)"
   ]
  },
  {
   "cell_type": "markdown",
   "metadata": {},
   "source": [
    "Now let's create a Process class inheriting from threading.Thread to implement different threads accesing shared data\n",
    "\n",
    "* Method **remove_request**. Looks in the Process request_queue to remove a message from a particular type and sender \n",
    "* Method **use_resource**. Emulates using some shared resource during 2 seconds\n",
    "* Method **process_message**. Analyses a mesage received. \n",
    "    * If type is \"request\", then put it in the local process queue and send an \"ack\" to the process that send the request\n",
    "    * If type is \"release\", then remove an existing \"request\" message form that sender in the process local queue\n",
    "    * If type is \"ack\", do nothing\n",
    "* Method **check_available**. This methods checks if my request is the oldest from all other request in my queue. If so, then returns True. If my request is not the oldest or I have no request in the queue, then returns False \n",
    "* Method **run**. This is the main method that run the thread. It makes an infinite loop checking if:\n",
    "    * If the current process has the resource, then use it for 2 seconds. When done, remove request from local queue and send release messages to other processes. Increase its clock and clear flags \"has_resource\" and \"requested\"\n",
    "    * It the current process does not have the resource, and did not requested yet, then do it. That is done sending a message to its own queue and sending a message to other processes queues. Increase its clock and setting the \"requested\" flag when done\n",
    "    * If the current process does not have the resource but it has already requested it, then wait until available processing the messages that arrive from other processes. When received, if the lamport clock from the message is larger than its own, then replace its own by the incoming lamport clock +1. Process incoming message using method **process_message**, increase again the local clock and check availability using **check_available**"
   ]
  },
  {
   "cell_type": "code",
   "execution_count": 5,
   "metadata": {},
   "outputs": [],
   "source": [
    "class Process(threading.Thread):\n",
    "\n",
    "    def __init__(self, name, initially_granted, other_processes):\n",
    "        super(Process, self).__init__()\n",
    "        self.name = name\n",
    "        self.has_resource = initially_granted == name\n",
    "        self.other_processes = other_processes\n",
    "        self.lamport_clock = 0 # tick after each \"event\"\n",
    "        self.request_queue = []\n",
    "        self.requested = False\n",
    "        self._stop_event = threading.Event()\n",
    "        self.request_queue.append(Message(\"request\", -1, initially_granted, initially_granted))\n",
    "        self.sockets_send={}\n",
    "        self.sockets_send[name] = context.socket(zmq.PUSH)\n",
    "        self.sockets_send[name].connect(urls[name])\n",
    "        for i in other_processes:\n",
    "            self.sockets_send[i] = context.socket(zmq.PUSH)\n",
    "            self.sockets_send[i].connect(urls[i])\n",
    "        #self.send_msg_request(initially_granted,Message(\"request\",-1,initially_granted,initially_granted))\n",
    "        self.socket_receive = context.socket(zmq.PULL)\n",
    "        print(\"listens: \",urls[self.name])\n",
    "        self.socket_receive.bind(urls[self.name])\n",
    "\n",
    "    def remove_request(self, msg_type, sender):\n",
    "    # Find if msg_type and sender are in the self.request_queue\n",
    "    # If it is, then remove\n",
    "        index_of_req = -1\n",
    "        for i in range(len(self.request_queue)):\n",
    "            if self.request_queue[i].msg_type == msg_type and self.request_queue[i].sender == sender:\n",
    "                index_of_req = i\n",
    "                break\n",
    "        if i == -1:\n",
    "            print(\"Unable to remove\") \n",
    "        else:\n",
    "            del self.request_queue[i]\n",
    "\n",
    "    def use_resource(self):\n",
    "    # emulates 2 seconds of resource usage from process\n",
    "        print(\"Process {} is using resource\".format(self.name))\n",
    "        resource_usage_counts[self.name] += 1\n",
    "        time.sleep(2)\n",
    "\n",
    "    def process_message(self, msg):\n",
    "        # Based on msg_type handle appropriately\n",
    "        if msg.msg_type == \"request\":\n",
    "            # Put in our request queue and send an ack to the sender\n",
    "            self.request_queue.append(msg)\n",
    "            for proc in self.other_processes:\n",
    "                if proc == msg.sender:\n",
    "                    self.send_msg_request(proc,Message(\"ack\", self.lamport_clock, self.name, msg.sender))\n",
    "                    #message_queues[proc].put(Message(\"ack\", self.lamport_clock, self.name, msg.sender))\n",
    "        elif msg.msg_type == \"release\":\n",
    "            # Got a release, remove it from our queue\n",
    "            self.remove_request(\"request\", msg.sender)\n",
    "        elif msg.msg_type == \"ack\":\n",
    "            pass\n",
    "        else:\n",
    "            print(\"Unknown message type\")\n",
    "\n",
    "    def run(self):\n",
    "        while True:\n",
    "            if self._stop_event.is_set(): break\n",
    "            if self.has_resource:\n",
    "                self.use_resource()\n",
    "                self.remove_request(\"request\", self.name)\n",
    "                # Tell everyone that we are done\n",
    "                for proc in self.other_processes:\n",
    "                    self.send_msg_request(proc,Message(\"release\", self.lamport_clock, self.name, proc))\n",
    "                    #message_queues[proc].put(Message(\"release\", self.lamport_clock, self.name, proc))\n",
    "                    self.lamport_clock += 1\n",
    "                self.has_resource, self.requested = False, False\n",
    "                continue\n",
    "            # Want to get the resource\n",
    "            if not self.requested:\n",
    "                # Request it\n",
    "                print(\"Process {} requesting resource\".format(self.name))\n",
    "                self.request_queue.append(Message(\"request\", self.lamport_clock,self.name, self.name))\n",
    "                # Broadcast this request\n",
    "                for proc in self.other_processes:\n",
    "                    self.send_msg_request(proc,Message(\"request\", self.lamport_clock, self.name, proc))\n",
    "                    #message_queues[proc].put(Message(\"request\", self.lamport_clock, self.name, proc))\n",
    "                    self.lamport_clock += 1\n",
    "                self.requested = True\n",
    "            else:\n",
    "                # Just wait until it is available by processing messages\n",
    "                print(\"Process {} waiting for message\".format(self.name))\n",
    "                msg=pickle.loads(self.socket_receive.recv())\n",
    "                self.request_queue.append(msg)\n",
    "                #msg = message_queues[self.name].get(block=True)        \n",
    "                # Got a message, check if the timestamp is greater than our clock, if so advance it\n",
    "                if msg.timestamp >= self.lamport_clock:\n",
    "                    self.lamport_clock = msg.timestamp + 1\n",
    "                print(\"Got message {}\".format(msg))\n",
    "                self.process_message(msg)\n",
    "                self.lamport_clock += 1\n",
    "                # Check after processing if the resource is \n",
    "                # available for me now, if so, grab it.\n",
    "                # We need earliest request to be ours and check that we \n",
    "                # have received an older message from everyone else \n",
    "                if self.check_available():\n",
    "                    print(\"Resource available for {}\".format(self.name))\n",
    "                    self.has_resource = True\n",
    "            print(\"Process {}: {}\".format(self.name, self.request_queue))\n",
    "            print(\"Process {} Clock: {}\".format(self.name, self.lamport_clock))\n",
    "            time.sleep(1)\n",
    "\n",
    "    def check_available(self):\n",
    "        got_older = {k: False for k in self.other_processes}\n",
    "        # Get timestamp of our req\n",
    "        our_req = None\n",
    "        for req in self.request_queue:\n",
    "            if req.sender == self.name:\n",
    "                our_req = req\n",
    "        if our_req is None:\n",
    "            return False\n",
    "        # We found our req make sure it is younger than \n",
    "        # all the others and we have an older one from \n",
    "        # the other guys\n",
    "        for req in self.request_queue:\n",
    "            if req.sender in got_older and req.timestamp > our_req.timestamp:\n",
    "                got_older[req.sender] = True\n",
    "        if all(got_older.values()):\n",
    "            return True\n",
    "        return False\n",
    "    \n",
    "    def stop(self):\n",
    "        self.socket_receive.close()\n",
    "        print(\"Socket for {} closed.\".format(self.name))\n",
    "        self._stop_event.set()\n",
    "\n",
    "    def send_msg_request(self,p,m):\n",
    "        print(\" - Sent message from {} to {}\".format(self.name,p))\n",
    "        print(\" sent to \",urls[p])\n",
    "        self.sockets_send[p].send(pickle.dumps((m))) # not blocking if socket PULL is up and listening"
   ]
  },
  {
   "cell_type": "code",
   "execution_count": 6,
   "metadata": {},
   "outputs": [
    {
     "output_type": "stream",
     "name": "stdout",
     "text": [
      "listens:  tcp://127.0.0.1:6789\nlistens:  tcp://127.0.0.1:6788\nlistens:  tcp://127.0.0.1:6787\n"
     ]
    }
   ],
   "source": [
    "t1 = Process(\"A\", initially_granted_proc, list(procs - set(\"A\")))\n",
    "t2 = Process(\"B\", initially_granted_proc, list(procs - set(\"B\")))\n",
    "t3 = Process(\"C\", initially_granted_proc, list(procs - set(\"C\")))"
   ]
  },
  {
   "cell_type": "markdown",
   "metadata": {},
   "source": [
    "Daemonizing threads means that if main thread dies so do they. That way the process will exit if the main thread is killed"
   ]
  },
  {
   "cell_type": "code",
   "execution_count": 7,
   "metadata": {},
   "outputs": [],
   "source": [
    "t1.setDaemon(True)\n",
    "t2.setDaemon(True)\n",
    "t3.setDaemon(True)"
   ]
  },
  {
   "cell_type": "markdown",
   "metadata": {},
   "source": [
    "Run threads and stop them after 30 seconds"
   ]
  },
  {
   "cell_type": "code",
   "execution_count": 8,
   "metadata": {
    "scrolled": false,
    "tags": [
     "outputPrepend"
    ]
   },
   "outputs": [
    {
     "output_type": "stream",
     "name": "stdout",
     "text": [
      "C to B\n",
      " - Sent message from B to C\n",
      " sent to  tcp://127.0.0.1:6787\n",
      "Process B: [Message release at 0 from A to B, Message ack at 2 from C to B, Message request at 2 from A to B, Message release at 6 from C to B, Message ack at 4 from A to B, Message request at 8 from C to B, Message request at 8 from C to B, Message release at 8 from A to B, Message ack at 12 from C to B, Message request at 10 from A to B, Message request at 10 from A to B, Message request at 18 from B to B, Message release at 16 from C to B, Message ack at 15 from A to B, Message request at 18 from C to B, Message request at 18 from C to B]\n",
      "Process B Clock: 23\n",
      "Process A: [Message request at 0 from B to A, Message ack at 5 from B to A, Message release at 5 from C to A, Message request at 7 from C to A, Message request at 7 from C to A, Message ack at 9 from C to A, Message release at 6 from B to A, Message request at 8 from B to A, Message request at 8 from B to A, Message ack at 15 from B to A, Message release at 15 from C to A, Message request at 20 from A to A, Message request at 17 from C to A, Message request at 17 from C to A]\n",
      "Process A Clock: 23\n",
      "Process C waiting for message\n",
      "Got message Message ack at 22 from B to C\n",
      "Process C: [Message ack at 2 from B to C, Message release at 1 from A to C, Message request at 3 from A to C, Message ack at 5 from A to C, Message release at 7 from B to C, Message request at 9 from B to C, Message request at 9 from B to C, Message ack at 12 from B to C, Message release at 9 from A to C, Message request at 17 from C to C, Message request at 11 from A to C, Message request at 11 from A to C, Message ack at 12 from A to C, Message release at 17 from B to C, Message request at 19 from B to C, Message request at 19 from B to C, Message ack at 22 from B to C]\n",
      "Process C Clock: 24\n",
      "Process B waiting for messageProcess A waiting for message\n",
      "Got message Message release at 18 from A to B\n",
      "Process B: [Message release at 0 from A to B, Message ack at 2 from C to B, Message release at 6 from C to B, Message ack at 4 from A to B, Message request at 8 from C to B, Message request at 8 from C to B, Message release at 8 from A to B, Message ack at 12 from C to B, Message request at 10 from A to B, Message request at 10 from A to B, Message request at 18 from B to B, Message release at 16 from C to B, Message ack at 15 from A to B, Message request at 18 from C to B, Message request at 18 from C to B, Message release at 18 from A to B]\n",
      "Process B Clock: 24\n",
      "\n",
      "Got message Message ack at 19 from C to A\n",
      "Process A: [Message request at 0 from B to A, Message ack at 5 from B to A, Message release at 5 from C to A, Message request at 7 from C to A, Message request at 7 from C to A, Message ack at 9 from C to A, Message release at 6 from B to A, Message request at 8 from B to A, Message request at 8 from B to A, Message ack at 15 from B to A, Message release at 15 from C to A, Message request at 20 from A to A, Message request at 17 from C to A, Message request at 17 from C to A, Message ack at 19 from C to A]\n",
      "Process A Clock: 24\n",
      "Process C waiting for message\n",
      "Got message Message release at 19 from A to C\n",
      "Resource available for C\n",
      "Process C: [Message ack at 2 from B to C, Message release at 1 from A to C, Message ack at 5 from A to C, Message release at 7 from B to C, Message request at 9 from B to C, Message request at 9 from B to C, Message ack at 12 from B to C, Message release at 9 from A to C, Message request at 17 from C to C, Message request at 11 from A to C, Message request at 11 from A to C, Message ack at 12 from A to C, Message release at 17 from B to C, Message request at 19 from B to C, Message request at 19 from B to C, Message ack at 22 from B to C, Message release at 19 from A to C]\n",
      "Process C Clock: 25\n",
      "Process A waiting for messageProcess B waiting for message\n",
      "Got message Message ack at 22 from C to B\n",
      "Process B: [Message release at 0 from A to B, Message ack at 2 from C to B, Message release at 6 from C to B, Message ack at 4 from A to B, Message request at 8 from C to B, Message request at 8 from C to B, Message release at 8 from A to B, Message ack at 12 from C to B, Message request at 10 from A to B, Message request at 10 from A to B, Message request at 18 from B to B, Message release at 16 from C to B, Message ack at 15 from A to B, Message request at 18 from C to B, Message request at 18 from C to B, Message release at 18 from A to B, Message ack at 22 from C to B]\n",
      "Process B Clock: 25\n",
      "\n",
      "Got message Message release at 16 from B to A\n",
      "Process A: [Message ack at 5 from B to A, Message release at 5 from C to A, Message request at 7 from C to A, Message request at 7 from C to A, Message ack at 9 from C to A, Message release at 6 from B to A, Message request at 8 from B to A, Message request at 8 from B to A, Message ack at 15 from B to A, Message release at 15 from C to A, Message request at 20 from A to A, Message request at 17 from C to A, Message request at 17 from C to A, Message ack at 19 from C to A, Message release at 16 from B to A]\n",
      "Process A Clock: 25\n",
      "Process C is using resource\n",
      "Process B waiting for message\n",
      "Got message Message request at 20 from A to B\n",
      " - Sent message from B to A\n",
      " sent to  tcp://127.0.0.1:6789\n",
      "Resource available for B\n",
      "Process B: [Message release at 0 from A to B, Message ack at 2 from C to B, Message release at 6 from C to B, Message ack at 4 from A to B, Message request at 8 from C to B, Message request at 8 from C to B, Message release at 8 from A to B, Message ack at 12 from C to B, Message request at 10 from A to B, Message request at 10 from A to B, Message request at 18 from B to B, Message release at 16 from C to B, Message ack at 15 from A to B, Message request at 18 from C to B, Message request at 18 from C to B, Message release at 18 from A to B, Message ack at 22 from C to B, Message request at 20 from A to B, Message request at 20 from A to B]\n",
      "Process B Clock: 26\n",
      "Process A waiting for message\n",
      "Got message Message request at 18 from B to A\n",
      " - Sent message from A to B\n",
      " sent to  tcp://127.0.0.1:6788\n",
      "Process A: [Message ack at 5 from B to A, Message release at 5 from C to A, Message request at 7 from C to A, Message request at 7 from C to A, Message ack at 9 from C to A, Message release at 6 from B to A, Message request at 8 from B to A, Message request at 8 from B to A, Message ack at 15 from B to A, Message release at 15 from C to A, Message request at 20 from A to A, Message request at 17 from C to A, Message request at 17 from C to A, Message ack at 19 from C to A, Message release at 16 from B to A, Message request at 18 from B to A, Message request at 18 from B to A]\n",
      "Process A Clock: 26\n",
      "Process B is using resource\n",
      "Process A waiting for message\n",
      "Got message Message ack at 25 from B to A\n",
      "Process A: [Message ack at 5 from B to A, Message release at 5 from C to A, Message request at 7 from C to A, Message request at 7 from C to A, Message ack at 9 from C to A, Message release at 6 from B to A, Message request at 8 from B to A, Message request at 8 from B to A, Message ack at 15 from B to A, Message release at 15 from C to A, Message request at 20 from A to A, Message request at 17 from C to A, Message request at 17 from C to A, Message ack at 19 from C to A, Message release at 16 from B to A, Message request at 18 from B to A, Message request at 18 from B to A, Message ack at 25 from B to A]\n",
      "Process A Clock: 27\n",
      " - Sent message from C to A\n",
      " sent to  tcp://127.0.0.1:6789\n",
      " - Sent message from C to B\n",
      " sent to  tcp://127.0.0.1:6788\n",
      "Process C requesting resource\n",
      " - Sent message from C to A\n",
      " sent to  tcp://127.0.0.1:6789\n",
      " - Sent message from C to B\n",
      " sent to  tcp://127.0.0.1:6788\n",
      "Process C: [Message ack at 2 from B to C, Message release at 1 from A to C, Message ack at 5 from A to C, Message release at 7 from B to C, Message request at 9 from B to C, Message request at 9 from B to C, Message ack at 12 from B to C, Message release at 9 from A to C, Message request at 11 from A to C, Message request at 11 from A to C, Message ack at 12 from A to C, Message release at 17 from B to C, Message request at 19 from B to C, Message request at 19 from B to C, Message ack at 22 from B to C, Message release at 19 from A to C, Message request at 27 from C to C]\n",
      "Process C Clock: 29\n",
      "Process A waiting for message\n",
      "Got message Message release at 25 from C to A\n",
      "Resource available for A\n",
      "Process A: [Message ack at 5 from B to A, Message release at 5 from C to A, Message request at 7 from C to A, Message ack at 9 from C to A, Message release at 6 from B to A, Message request at 8 from B to A, Message request at 8 from B to A, Message ack at 15 from B to A, Message release at 15 from C to A, Message request at 20 from A to A, Message request at 17 from C to A, Message request at 17 from C to A, Message ack at 19 from C to A, Message release at 16 from B to A, Message request at 18 from B to A, Message request at 18 from B to A, Message ack at 25 from B to A, Message release at 25 from C to A]\n",
      "Process A Clock: 28\n",
      "Process C waiting for message\n",
      "Got message Message request at 21 from A to C\n",
      " - Sent message from C to A\n",
      " sent to  tcp://127.0.0.1:6789\n",
      "Process C: [Message ack at 2 from B to C, Message release at 1 from A to C, Message ack at 5 from A to C, Message release at 7 from B to C, Message request at 9 from B to C, Message request at 9 from B to C, Message ack at 12 from B to C, Message release at 9 from A to C, Message request at 11 from A to C, Message request at 11 from A to C, Message ack at 12 from A to C, Message release at 17 from B to C, Message request at 19 from B to C, Message request at 19 from B to C, Message ack at 22 from B to C, Message release at 19 from A to C, Message request at 27 from C to C, Message request at 21 from A to C, Message request at 21 from A to C]\n",
      "Process C Clock: 30\n",
      " - Sent message from B to A\n",
      " sent to  tcp://127.0.0.1:6789\n",
      " - Sent message from B to C\n",
      " sent to  tcp://127.0.0.1:6787\n",
      "Process B requesting resource\n",
      " - Sent message from B to A\n",
      " sent to  tcp://127.0.0.1:6789\n",
      " - Sent message from B to C\n",
      " sent to  tcp://127.0.0.1:6787\n",
      "Process B: [Message release at 0 from A to B, Message ack at 2 from C to B, Message release at 6 from C to B, Message ack at 4 from A to B, Message request at 8 from C to B, Message request at 8 from C to B, Message release at 8 from A to B, Message ack at 12 from C to B, Message request at 10 from A to B, Message request at 10 from A to B, Message release at 16 from C to B, Message ack at 15 from A to B, Message request at 18 from C to B, Message request at 18 from C to B, Message release at 18 from A to B, Message ack at 22 from C to B, Message request at 20 from A to B, Message request at 20 from A to B, Message request at 28 from B to B]\n",
      "Process B Clock: 30\n",
      "Process A is using resource\n",
      "Process C waiting for message\n",
      "Got message Message ack at 22 from A to C\n",
      "Process C: [Message ack at 2 from B to C, Message release at 1 from A to C, Message ack at 5 from A to C, Message release at 7 from B to C, Message request at 9 from B to C, Message request at 9 from B to C, Message ack at 12 from B to C, Message release at 9 from A to C, Message request at 11 from A to C, Message request at 11 from A to C, Message ack at 12 from A to C, Message release at 17 from B to C, Message request at 19 from B to C, Message request at 19 from B to C, Message ack at 22 from B to C, Message release at 19 from A to C, Message request at 27 from C to C, Message request at 21 from A to C, Message request at 21 from A to C, Message ack at 22 from A to C]\n",
      "Process C Clock: 31\n",
      "Process B waiting for message\n",
      "Got message Message release at 26 from C to B\n",
      "Process B: [Message release at 0 from A to B, Message ack at 2 from C to B, Message release at 6 from C to B, Message ack at 4 from A to B, Message request at 8 from C to B, Message release at 8 from A to B, Message ack at 12 from C to B, Message request at 10 from A to B, Message request at 10 from A to B, Message release at 16 from C to B, Message ack at 15 from A to B, Message request at 18 from C to B, Message request at 18 from C to B, Message release at 18 from A to B, Message ack at 22 from C to B, Message request at 20 from A to B, Message request at 20 from A to B, Message request at 28 from B to B, Message release at 26 from C to B]\n",
      "Process B Clock: 31\n",
      "Process C waiting for message\n",
      "Process B waiting for messageGot message Message release at 27 from B to C\n",
      "Process C: [Message ack at 2 from B to C, Message release at 1 from A to C, Message ack at 5 from A to C, Message release at 7 from B to C, Message request at 9 from B to C, Message ack at 12 from B to C, Message release at 9 from A to C, Message request at 11 from A to C, Message request at 11 from A to C, Message ack at 12 from A to C, Message release at 17 from B to C, Message request at 19 from B to C, Message request at 19 from B to C, Message ack at 22 from B to C, Message release at 19 from A to C, Message request at 27 from C to C, Message request at 21 from A to C, Message request at 21 from A to C, Message ack at 22 from A to C, Message release at 27 from B to C]\n",
      "Process C Clock: 32\n",
      "\n",
      "Got message Message ack at 25 from A to B\n",
      "Process B: [Message release at 0 from A to B, Message ack at 2 from C to B, Message release at 6 from C to B, Message ack at 4 from A to B, Message request at 8 from C to B, Message release at 8 from A to B, Message ack at 12 from C to B, Message request at 10 from A to B, Message request at 10 from A to B, Message release at 16 from C to B, Message ack at 15 from A to B, Message request at 18 from C to B, Message request at 18 from C to B, Message release at 18 from A to B, Message ack at 22 from C to B, Message request at 20 from A to B, Message request at 20 from A to B, Message request at 28 from B to B, Message release at 26 from C to B, Message ack at 25 from A to B]\n",
      "Process B Clock: 32\n",
      " - Sent message from A to B\n",
      " sent to  tcp://127.0.0.1:6788\n",
      " - Sent message from A to C\n",
      " sent to  tcp://127.0.0.1:6787\n",
      "Process A requesting resource\n",
      " - Sent message from A to B\n",
      " sent to  tcp://127.0.0.1:6788\n",
      " - Sent message from A to C\n",
      " sent to  tcp://127.0.0.1:6787\n",
      "Process A: [Message ack at 5 from B to A, Message release at 5 from C to A, Message request at 7 from C to A, Message ack at 9 from C to A, Message release at 6 from B to A, Message request at 8 from B to A, Message request at 8 from B to A, Message ack at 15 from B to A, Message release at 15 from C to A, Message request at 17 from C to A, Message request at 17 from C to A, Message ack at 19 from C to A, Message release at 16 from B to A, Message request at 18 from B to A, Message request at 18 from B to A, Message ack at 25 from B to A, Message release at 25 from C to A, Message request at 30 from A to A]\n",
      "Process A Clock: 32\n",
      "Process C waiting for messageProcess B waiting for message\n",
      "\n",
      "Got message Message request at 28 from C to B\n",
      " - Sent message from B to C\n",
      " sent to  tcp://127.0.0.1:6787\n",
      "Process B: [Message release at 0 from A to B, Message ack at 2 from C to B, Message release at 6 from C to B, Message ack at 4 from A to B, Message request at 8 from C to B, Message release at 8 from A to B, Message ack at 12 from C to B, Message request at 10 from A to B, Message request at 10 from A to B, Message release at 16 from C to B, Message ack at 15 from A to B, Message request at 18 from C to B, Message request at 18 from C to B, Message release at 18 from A to B, Message ack at 22 from C to B, Message request at 20 from A to B, Message request at 20 from A to B, Message request at 28 from B to B, Message release at 26 from C to B, Message ack at 25 from A to B, Message request at 28 from C to B, Message request at 28 from C to B]Got message Message request at 29 from B to C\n",
      " - Sent message from C to B\n",
      " sent to  tcp://127.0.0.1:6788\n",
      "Process C: [Message ack at 2 from B to C, Message release at 1 from A to C, Message ack at 5 from A to C, Message release at 7 from B to C, Message request at 9 from B to C, Message ack at 12 from B to C, Message release at 9 from A to C, Message request at 11 from A to C, Message request at 11 from A to C, Message ack at 12 from A to C, Message release at 17 from B to C, Message request at 19 from B to C, Message request at 19 from B to C, Message ack at 22 from B to C, Message release at 19 from A to C, Message request at 27 from C to C, Message request at 21 from A to C, Message request at 21 from A to C, Message ack at 22 from A to C, Message release at 27 from B to C, Message request at 29 from B to C, Message request at 29 from B to C]\n",
      "Process C Clock: 33\n",
      "\n",
      "Process B Clock: 33\n",
      "Process A waiting for message\n",
      "Got message Message request at 27 from C to A\n",
      " - Sent message from A to C\n",
      " sent to  tcp://127.0.0.1:6787\n",
      "Process A: [Message ack at 5 from B to A, Message release at 5 from C to A, Message request at 7 from C to A, Message ack at 9 from C to A, Message release at 6 from B to A, Message request at 8 from B to A, Message request at 8 from B to A, Message ack at 15 from B to A, Message release at 15 from C to A, Message request at 17 from C to A, Message request at 17 from C to A, Message ack at 19 from C to A, Message release at 16 from B to A, Message request at 18 from B to A, Message request at 18 from B to A, Message ack at 25 from B to A, Message release at 25 from C to A, Message request at 30 from A to A, Message request at 27 from C to A, Message request at 27 from C to A]\n",
      "Process A Clock: 33\n",
      "Process C waiting for messageProcess B waiting for message\n",
      "\n",
      "Got message Message release at 28 from A to B\n",
      "Process B: [Message release at 0 from A to B, Message ack at 2 from C to B, Message release at 6 from C to B, Message ack at 4 from A to B, Message request at 8 from C to B, Message release at 8 from A to B, Message ack at 12 from C to B, Message request at 10 from A to B, Message release at 16 from C to B, Message ack at 15 from A to B, Message request at 18 from C to B, Message request at 18 from C to B, Message release at 18 from A to B, Message ack at 22 from C to B, Message request at 20 from A to B, Message request at 20 from A to B, Message request at 28 from B to B, Message release at 26 from C to B, Message ack at 25 from A to B, Message request at 28 from C to B, Message request at 28 from C to B, Message release at 28 from A to B]\n",
      "Process B Clock: 34\n",
      "Got message Message ack at 32 from B to C\n",
      "Process C: [Message ack at 2 from B to C, Message release at 1 from A to C, Message ack at 5 from A to C, Message release at 7 from B to C, Message request at 9 from B to C, Message ack at 12 from B to C, Message release at 9 from A to C, Message request at 11 from A to C, Message request at 11 from A to C, Message ack at 12 from A to C, Message release at 17 from B to C, Message request at 19 from B to C, Message request at 19 from B to C, Message ack at 22 from B to C, Message release at 19 from A to C, Message request at 27 from C to C, Message request at 21 from A to C, Message request at 21 from A to C, Message ack at 22 from A to C, Message release at 27 from B to C, Message request at 29 from B to C, Message request at 29 from B to C, Message ack at 32 from B to C]\n",
      "Process C Clock: 34\n",
      "Process A waiting for message\n",
      "Got message Message ack at 29 from C to A\n",
      "Process A: [Message ack at 5 from B to A, Message release at 5 from C to A, Message request at 7 from C to A, Message ack at 9 from C to A, Message release at 6 from B to A, Message request at 8 from B to A, Message request at 8 from B to A, Message ack at 15 from B to A, Message release at 15 from C to A, Message request at 17 from C to A, Message request at 17 from C to A, Message ack at 19 from C to A, Message release at 16 from B to A, Message request at 18 from B to A, Message request at 18 from B to A, Message ack at 25 from B to A, Message release at 25 from C to A, Message request at 30 from A to A, Message request at 27 from C to A, Message request at 27 from C to A, Message ack at 29 from C to A]\n",
      "Process A Clock: 34\n",
      "Socket for A closed.\n",
      "Socket for B closed.\n",
      "Socket for C closed.\n",
      "Resource usage:\n",
      "{'A': 4, 'B': 3, 'C': 3}\n"
     ]
    }
   ],
   "source": [
    "t1.start()\n",
    "t2.start()\n",
    "t3.start()\n",
    "time.sleep(30)\n",
    "t1.stop()\n",
    "t2.stop()\n",
    "t3.stop()\n",
    "t1.join()\n",
    "t2.join()\n",
    "t3.join()\n",
    "print(\"Resource usage:\")\n",
    "print(resource_usage_counts)"
   ]
  },
  {
   "cell_type": "code",
   "execution_count": null,
   "metadata": {},
   "outputs": [],
   "source": []
  }
 ],
 "metadata": {
  "kernelspec": {
   "name": "python3",
   "display_name": "Python 3.9.0 64-bit",
   "metadata": {
    "interpreter": {
     "hash": "7812ea015bdcee6f23a998adcdd2ef97c151c0c241b7b7070987d9313e41299d"
    }
   }
  },
  "language_info": {
   "codemirror_mode": {
    "name": "ipython",
    "version": 3
   },
   "file_extension": ".py",
   "mimetype": "text/x-python",
   "name": "python",
   "nbconvert_exporter": "python",
   "pygments_lexer": "ipython3",
   "version": "3.9.0-final"
  }
 },
 "nbformat": 4,
 "nbformat_minor": 2
}