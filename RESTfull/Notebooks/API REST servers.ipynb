{
 "cells": [
  {
   "cell_type": "markdown",
   "metadata": {},
   "source": [
    "# First API REST Server"
   ]
  },
  {
   "cell_type": "markdown",
   "metadata": {},
   "source": [
    "### 1. Create a server that returns the current timestamp when queried the URL:  \n",
    "    \n",
    "###    http://127.0.0.1:6878/api/v1.0/date\n",
    "            "
   ]
  },
  {
   "cell_type": "code",
   "execution_count": 2,
   "metadata": {},
   "outputs": [
    {
     "output_type": "stream",
     "name": "stdout",
     "text": [
      " * Serving Flask app \"__main__\" (lazy loading)\n",
      " * Environment: production\n",
      "\u001b[31m   WARNING: This is a development server. Do not use it in a production deployment.\u001b[0m\n",
      "\u001b[2m   Use a production WSGI server instead.\u001b[0m\n",
      " * Debug mode: off\n",
      " * Running on http://127.0.0.1:6878/ (Press CTRL+C to quit)\n",
      "127.0.0.1 - - [14/Mar/2021 10:40:04] \"\u001b[33mGET /api/v1.0/data HTTP/1.1\u001b[0m\" 404 -\n",
      "127.0.0.1 - - [14/Mar/2021 10:40:04] \"\u001b[33mGET /favicon.ico HTTP/1.1\u001b[0m\" 404 -\n",
      "127.0.0.1 - - [14/Mar/2021 10:40:14] \"\u001b[33mGET /api/v1.0/data?continent=africa HTTP/1.1\u001b[0m\" 404 -\n",
      "127.0.0.1 - - [14/Mar/2021 10:40:31] \"\u001b[37mGET /api/v1.0/date HTTP/1.1\u001b[0m\" 200 -\n",
      "127.0.0.1 - - [14/Mar/2021 10:40:31] \"\u001b[37mGET /api/v1.0/date HTTP/1.1\u001b[0m\" 200 -\n",
      "127.0.0.1 - - [14/Mar/2021 10:40:31] \"\u001b[37mGET /api/v1.0/date HTTP/1.1\u001b[0m\" 200 -\n",
      "127.0.0.1 - - [14/Mar/2021 10:40:31] \"\u001b[33mGET /api/v1.0/data HTTP/1.1\u001b[0m\" 404 -\n",
      "127.0.0.1 - - [14/Mar/2021 10:40:36] \"\u001b[37mGET /api/v1.0/date HTTP/1.1\u001b[0m\" 200 -\n",
      "127.0.0.1 - - [14/Mar/2021 10:40:37] \"\u001b[37mGET /api/v1.0/date HTTP/1.1\u001b[0m\" 200 -\n",
      "127.0.0.1 - - [14/Mar/2021 10:40:40] \"\u001b[37mGET /api/v1.0/date HTTP/1.1\u001b[0m\" 200 -\n",
      "127.0.0.1 - - [14/Mar/2021 10:40:50] \"\u001b[37mGET /api/v1.0/date HTTP/1.1\u001b[0m\" 200 -\n"
     ]
    }
   ],
   "source": [
    "#!flask/bin/python\n",
    "from flask import Flask, jsonify, request\n",
    "import datetime\n",
    "import json\n",
    "\n",
    "app = Flask(__name__)\n",
    "\n",
    "@app.route('/api/v1.0/date', methods=['GET'])\n",
    "def get_data():\n",
    "\t#http://127.0.0.1:6878/api/v1.0/date\n",
    "    if request.method == 'GET':\n",
    "        return jsonify({'date': datetime.datetime.now()})\n",
    "    \n",
    "if __name__ == '__main__':\n",
    "    #app.run(debug=True,port=6878)\n",
    "    app.run(port=6878)"
   ]
  },
  {
   "cell_type": "markdown",
   "metadata": {},
   "source": [
    "### 2. Create a new server that returns data from a local file when querying:\n",
    "\n",
    "###    http://127.0.0.1:6878/api/v1.0/data"
   ]
  },
  {
   "cell_type": "code",
   "execution_count": 1,
   "metadata": {},
   "outputs": [
    {
     "output_type": "stream",
     "name": "stdout",
     "text": [
      " * Serving Flask app \"__main__\" (lazy loading)\n",
      " * Environment: production\n",
      "\u001b[31m   WARNING: This is a development server. Do not use it in a production deployment.\u001b[0m\n",
      "\u001b[2m   Use a production WSGI server instead.\u001b[0m\n",
      " * Debug mode: off\n",
      " * Running on http://127.0.0.1:6878/ (Press CTRL+C to quit)\n",
      "127.0.0.1 - - [14/Mar/2021 17:48:48] \"\u001b[37mGET /api/v1.0/data HTTP/1.1\u001b[0m\" 200 -\n"
     ]
    }
   ],
   "source": [
    "#!flask/bin/python\n",
    "from flask import Flask, jsonify, request\n",
    "import json\n",
    "\n",
    "app = Flask(__name__)\n",
    "\n",
    "\n",
    "@app.route('/api/v1.0/data', methods=['GET'])\n",
    "def get_data():\n",
    "    #http://127.0.0.1:6878/api/v1.0/data\n",
    "    with open('data.json', 'r') as fp:\n",
    "        data_read = json.load(fp)\n",
    "    if request.method == 'GET':\n",
    "        out=data_read\n",
    "    return jsonify({'data': out})\n",
    "    \n",
    "if __name__ == '__main__':\n",
    "    app.run(port=6878)"
   ]
  },
  {
   "cell_type": "markdown",
   "metadata": {},
   "source": [
    "### 3. Create a new server that returns data from a local file and include a filtering parameter in the URL\n",
    "\n",
    "###    http://127.0.0.1:6878/api/v1.0/data\n",
    "###    http://127.0.0.1:6878/api/v1.0/data?continent=africa"
   ]
  },
  {
   "cell_type": "code",
   "execution_count": 5,
   "metadata": {},
   "outputs": [
    {
     "data": {
      "text/plain": [
       "[{'asia_wiki': '/wiki/Asia'},\n",
       " {'asia_density': 96.4},\n",
       " {'asia_population': '4,436'},\n",
       " {'asia_most_populous_country': '1,382,300,000 \\xa0China'},\n",
       " {'asia_most_populous_city': '35,676,000/13,634,685 -  Greater Tokyo Area/Tokyo Metropolis'}]"
      ]
     },
     "execution_count": 5,
     "metadata": {},
     "output_type": "execute_result"
    }
   ],
   "source": [
    "import json\n",
    "with open('data.json', 'r') as fp:\n",
    "    data_read = json.load(fp)\n",
    "data_read[\"asia\"]"
   ]
  },
  {
   "cell_type": "code",
   "execution_count": 6,
   "metadata": {},
   "outputs": [
    {
     "name": "stdout",
     "output_type": "stream",
     "text": [
      " * Serving Flask app \"__main__\" (lazy loading)\n",
      " * Environment: production\n",
      "   WARNING: This is a development server. Do not use it in a production deployment.\n",
      "   Use a production WSGI server instead.\n",
      " * Debug mode: off\n"
     ]
    },
    {
     "name": "stderr",
     "output_type": "stream",
     "text": [
      " * Running on http://127.0.0.1:6878/ (Press CTRL+C to quit)\n",
      "127.0.0.1 - - [11/Mar/2021 15:46:51] \"\u001b[37mGET /api/v1.0/data HTTP/1.1\u001b[0m\" 200 -\n",
      "127.0.0.1 - - [11/Mar/2021 15:47:00] \"\u001b[37mGET /api/v1.0/data?continent=africa HTTP/1.1\u001b[0m\" 200 -\n"
     ]
    }
   ],
   "source": [
    "#!flask/bin/python\n",
    "from flask import Flask, jsonify, request\n",
    "import json\n",
    "\n",
    "app = Flask(__name__)\n",
    "\n",
    "\n",
    "@app.route('/api/v1.0/data', methods=['GET'])\n",
    "def get_data():\n",
    "    #http://127.0.0.1:6878/api/v1.0/data\n",
    "    #http://127.0.0.1:6878/api/v1.0/data?continent=africa\n",
    "    with open('data.json', 'r') as fp:\n",
    "        data_read = json.load(fp)\n",
    "    if request.method == 'GET':\n",
    "        if request.args.get('continent'):\n",
    "            out=data_read[request.args.get('continent')]\n",
    "        else:\n",
    "            out=data_read\n",
    "        return jsonify({'data': out})\n",
    "\n",
    "if __name__ == '__main__':\n",
    "    app.run(port=6878)"
   ]
  },
  {
   "cell_type": "markdown",
   "metadata": {},
   "source": [
    "### 4. Create a new server that returns data from a local file and include a filtering parameter in the URL\n",
    "### And that allows POST actions with forms to include a new element on the file\n",
    "\n",
    "###    http://127.0.0.1:6878/api/v1.0/data\n",
    "###    http://127.0.0.1:6878/api/v1.0/data?continent=africa\n",
    "###    http://127.0.0.1:6878/api/v1.0/append"
   ]
  },
  {
   "cell_type": "code",
   "execution_count": 1,
   "metadata": {},
   "outputs": [
    {
     "name": "stdout",
     "output_type": "stream",
     "text": [
      " * Serving Flask app \"__main__\" (lazy loading)\n",
      " * Environment: production\n",
      "   WARNING: This is a development server. Do not use it in a production deployment.\n",
      "   Use a production WSGI server instead.\n",
      " * Debug mode: off\n"
     ]
    },
    {
     "name": "stderr",
     "output_type": "stream",
     "text": [
      " * Running on http://127.0.0.1:6878/ (Press CTRL+C to quit)\n",
      "127.0.0.1 - - [11/Mar/2021 15:48:33] \"\u001b[37mGET /api/v1.0/append HTTP/1.1\u001b[0m\" 200 -\n",
      "127.0.0.1 - - [11/Mar/2021 15:48:34] \"\u001b[33mGET /favicon.ico HTTP/1.1\u001b[0m\" 404 -\n",
      "127.0.0.1 - - [11/Mar/2021 15:48:45] \"\u001b[37mPOST /api/v1.0/append HTTP/1.1\u001b[0m\" 200 -\n"
     ]
    }
   ],
   "source": [
    "#!flask/bin/python\n",
    "from flask import Flask, jsonify, request\n",
    "import json\n",
    "\n",
    "app = Flask(__name__)\n",
    "\n",
    "\n",
    "@app.route('/api/v1.0/data', methods=['GET'])\n",
    "def get_data():\n",
    "    #http://127.0.0.1:6878/api/v1.0/data\n",
    "    #http://127.0.0.1:6878/api/v1.0/data?continent=africa\n",
    "    with open('data.json', 'r') as fp:\n",
    "        data_read = json.load(fp)\n",
    "    if request.method == 'GET':\n",
    "        if request.args.get('continent'):\n",
    "            out=data_read[request.args.get('continent')]\n",
    "        else:\n",
    "            out=data_read\n",
    "        return jsonify({'data': out})\n",
    "\n",
    "\n",
    "    \n",
    "@app.route('/api/v1.0/append', methods=['POST', 'GET'])\n",
    "def get_newdata_posted():\n",
    "    #http://127.0.0.1:6878/api/v1.0/append\n",
    "    if request.method == 'GET':\n",
    "        return '''<form method=\"POST\">\n",
    "                  Continent: <input type=\"text\" name=\"continent\"><br>\n",
    "                  Continent densisty: <input type=\"text\" name=\"density\"><br>\n",
    "                  Continent population: <input type=\"text\" name=\"population\"><br>\n",
    "                  Continent most populous country: <input type=\"text\" name=\"most_country\"><br>\n",
    "                  Continent most populous city: <input type=\"text\" name=\"most_city\"><br>\n",
    "                  <input type=\"submit\" value=\"Submit\"><br>\n",
    "              </form>'''\n",
    "    elif request.method == 'POST':\n",
    "        continent = request.form.get('continent')\n",
    "        density = request.form.get('density')\n",
    "        population = request.form.get('population')\n",
    "        most_country = request.form.get('most_country')\n",
    "        most_city = request.form.get('most_city')\n",
    "        with open('data.json', 'r') as file:\n",
    "            data = json.load(file)\n",
    "        data2 = [\n",
    "            {continent+\"_wiki\":\" \"},\n",
    "            {continent+\"_density\":density},\n",
    "            {continent+\"_population\":population},\n",
    "            {continent+\"_most_populous_contry\":most_country},\n",
    "            {continent+\"_most_populous_city\":most_city}\n",
    "        ]    \n",
    "        data[continent] = data2    \n",
    "        with open('data.json.modified','w') as fp:\n",
    "            json.dump(data,fp)\n",
    "        \n",
    "        return 'Submitted form.'\n",
    "    \n",
    "\n",
    "if __name__ == '__main__':\n",
    "    app.run(port=6878)"
   ]
  },
  {
   "cell_type": "markdown",
   "metadata": {},
   "source": [
    "### 5. Create API REST server that allows regular POST actions with JSONs  \n",
    "### Create a method to add user/passwrods into a local file:\n",
    "\n",
    "       requests.post('http://127.0.0.1:6878/api/v1.0/newusers', json={\"username\":\"luis\",\"password\":\"4321\"})"
   ]
  },
  {
   "cell_type": "code",
   "execution_count": 1,
   "metadata": {},
   "outputs": [
    {
     "name": "stdout",
     "output_type": "stream",
     "text": [
      " * Serving Flask app \"__main__\" (lazy loading)\n",
      " * Environment: production\n",
      "   WARNING: This is a development server. Do not use it in a production deployment.\n",
      "   Use a production WSGI server instead.\n",
      " * Debug mode: off\n"
     ]
    },
    {
     "name": "stderr",
     "output_type": "stream",
     "text": [
      " * Running on http://127.0.0.1:6878/ (Press CTRL+C to quit)\n",
      "127.0.0.1 - - [11/Mar/2021 15:49:58] \"\u001b[31m\u001b[1mGET /api/v1.0/newusers HTTP/1.1\u001b[0m\" 405 -\n",
      "127.0.0.1 - - [11/Mar/2021 15:50:47] \"\u001b[37mPOST /api/v1.0/newusers HTTP/1.1\u001b[0m\" 200 -\n",
      "127.0.0.1 - - [11/Mar/2021 15:51:10] \"\u001b[37mPOST /api/v1.0/newusers HTTP/1.1\u001b[0m\" 200 -\n",
      "127.0.0.1 - - [11/Mar/2021 15:51:19] \"\u001b[37mPOST /api/v1.0/newusers HTTP/1.1\u001b[0m\" 200 -\n"
     ]
    }
   ],
   "source": [
    "#!flask/bin/python\n",
    "from flask import Flask, jsonify, request\n",
    "import json\n",
    "\n",
    "app = Flask(__name__)\n",
    "\n",
    "\n",
    "@app.route('/api/v1.0/data', methods=['GET'])\n",
    "def get_data():\n",
    "    #http://127.0.0.1:6878/api/v1.0/data\n",
    "    #http://127.0.0.1:6878/api/v1.0/data?continent=africa\n",
    "    with open('data.json', 'r') as fp:\n",
    "        data_read = json.load(fp)\n",
    "    if request.method == 'GET':\n",
    "        if request.args.get('continent'):\n",
    "            out=data_read[request.args.get('continent')]\n",
    "        else:\n",
    "            out=data_read\n",
    "        return jsonify({'data': out})\n",
    "\n",
    "\n",
    "    \n",
    "@app.route('/api/v1.0/append', methods=['POST', 'GET'])\n",
    "def get_newdata_posted():\n",
    "    #http://127.0.0.1:6878/api/v1.0/append\n",
    "    if request.method == 'GET':\n",
    "        return '''<form method=\"POST\">\n",
    "                  Continent: <input type=\"text\" name=\"continent\"><br>\n",
    "                  Continent densisty: <input type=\"text\" name=\"density\"><br>\n",
    "                  Continent population: <input type=\"text\" name=\"population\"><br>\n",
    "                  Continent most populous country: <input type=\"text\" name=\"most_country\"><br>\n",
    "                  Continent most populous city: <input type=\"text\" name=\"most_city\"><br>\n",
    "                  <input type=\"submit\" value=\"Submit\"><br>\n",
    "              </form>'''\n",
    "    elif request.method == 'POST':\n",
    "        continent = request.form.get('continent')\n",
    "        density = request.form.get('density')\n",
    "        population = request.form.get('population')\n",
    "        most_country = request.form.get('most_country')\n",
    "        most_city = request.form.get('most_city')\n",
    "        with open('data.json', 'r') as file:\n",
    "            data = json.load(file)\n",
    "        data2 = [\n",
    "            {continent+\"_wiki\":\" \"},\n",
    "            {continent+\"_density\":density},\n",
    "            {continent+\"_population\":population},\n",
    "            {continent+\"_most_populous_contry\":most_country},\n",
    "            {continent+\"_most_populous_city\":most_city}\n",
    "        ]    \n",
    "        data[continent] = data2    \n",
    "        with open('data.json','w') as fp:\n",
    "            json.dump(data,fp)\n",
    "        \n",
    "        return 'Submitted form.'\n",
    "\n",
    "@app.route('/api/v1.0/newusers', methods = ['POST'])\n",
    "def new_user():\n",
    "    #http://127.0.0.1:6878/api/v1.0/newusers\n",
    "    if request.method == 'POST':\n",
    "        with open('users.pass', 'r') as file:\n",
    "            data = file.readlines()\n",
    "            users=dict([i.split(':') for i in data])\n",
    "        username = request.json.get('username')\n",
    "        password = request.json.get('password')\n",
    "        if username is None or password is None:\n",
    "            abort(400) # missing arguments\n",
    "        if username in users:\n",
    "            return jsonify({\"answer\":\"User already exists\"})\n",
    "        with open('users.pass','w') as file:\n",
    "            for k,v in users.items():\n",
    "                file.write(k+\":\"+v)\n",
    "            file.write(username+':'+password+'\\n')\n",
    "        return jsonify({\"answer\":\"New user registered\"})\n",
    "\n",
    "if __name__ == '__main__':\n",
    "    app.run(port=6878)"
   ]
  },
  {
   "cell_type": "markdown",
   "metadata": {},
   "source": [
    "### 6. Create API REST server that makes use of the local user/password file to authenticate all GET and POST methods\n",
    "\n",
    "Need: pip install Flask-HTTPAuth"
   ]
  },
  {
   "cell_type": "code",
   "execution_count": null,
   "metadata": {},
   "outputs": [
    {
     "name": "stdout",
     "output_type": "stream",
     "text": [
      " * Serving Flask app \"__main__\" (lazy loading)\n",
      " * Environment: production\n",
      "   WARNING: This is a development server. Do not use it in a production deployment.\n",
      "   Use a production WSGI server instead.\n",
      " * Debug mode: off\n"
     ]
    },
    {
     "name": "stderr",
     "output_type": "stream",
     "text": [
      " * Running on http://127.0.0.1:6878/ (Press CTRL+C to quit)\n",
      "127.0.0.1 - - [11/Mar/2021 15:53:42] \"\u001b[31m\u001b[1mPOST /api/v1.0/newusers HTTP/1.1\u001b[0m\" 401 -\n",
      "127.0.0.1 - - [11/Mar/2021 15:53:55] \"\u001b[31m\u001b[1mGET /api/v1.0/data?continent=africa HTTP/1.1\u001b[0m\" 401 -\n",
      "127.0.0.1 - - [11/Mar/2021 15:54:09] \"\u001b[37mPOST /api/v1.0/newusers HTTP/1.1\u001b[0m\" 200 -\n",
      "127.0.0.1 - - [11/Mar/2021 15:54:15] \"\u001b[37mPOST /api/v1.0/newusers HTTP/1.1\u001b[0m\" 200 -\n",
      "127.0.0.1 - - [11/Mar/2021 15:54:24] \"\u001b[37mGET /api/v1.0/data?continent=africa HTTP/1.1\u001b[0m\" 200 -\n"
     ]
    }
   ],
   "source": [
    "#!flask/bin/python\n",
    "from flask import Flask, jsonify, request\n",
    "import json\n",
    "from flask_httpauth import HTTPBasicAuth\n",
    "\n",
    "app = Flask(__name__)\n",
    "\n",
    "from flask_httpauth import HTTPBasicAuth    \n",
    "auth = HTTPBasicAuth()\n",
    "\n",
    "@auth.verify_password\n",
    "def verify_password(username, password):\n",
    "    with open('users.pass', 'r') as file:\n",
    "            data = file.readlines()\n",
    "            users=dict([i.split(':') for i in data])\n",
    "    if username in users and password==users[username][:-1]: \n",
    "        # remove las character \\n\n",
    "        return True\n",
    "    return False\n",
    "\n",
    "\n",
    "@app.route('/api/v1.0/data', methods=['GET'])\n",
    "@auth.login_required\n",
    "def get_data():\n",
    "    #http://127.0.0.1:6878/api/v1.0/data\n",
    "    #http://127.0.0.1:6878/api/v1.0/data?continent=africa\n",
    "    with open('data.json', 'r') as fp:\n",
    "        data_read = json.load(fp)\n",
    "    if request.method == 'GET':\n",
    "        if request.args.get('continent'):\n",
    "            out=data_read[request.args.get('continent')]\n",
    "        else:\n",
    "            out=data_read\n",
    "        return jsonify({'data': out})\n",
    "    \n",
    "@app.route('/api/v1.0/append', methods=['POST', 'GET'])\n",
    "@auth.login_required\n",
    "def get_newdata_posted():\n",
    "    #http://127.0.0.1:6878/api/v1.0/append\n",
    "    if request.method == 'GET':\n",
    "        return '''<form method=\"POST\">\n",
    "                  Continent: <input type=\"text\" name=\"continent\"><br>\n",
    "                  Continent densisty: <input type=\"text\" name=\"density\"><br>\n",
    "                  Continent population: <input type=\"text\" name=\"population\"><br>\n",
    "                  Continent most populous country: <input type=\"text\" name=\"most_country\"><br>\n",
    "                  Continent most populous city: <input type=\"text\" name=\"most_city\"><br>\n",
    "                  <input type=\"submit\" value=\"Submit\"><br>\n",
    "              </form>'''\n",
    "    elif request.method == 'POST':\n",
    "        continent = request.form.get('continent')\n",
    "        density = request.form.get('density')\n",
    "        population = request.form.get('population')\n",
    "        most_country = request.form.get('most_country')\n",
    "        most_city = request.form.get('most_city')\n",
    "        with open('data.json', 'r') as file:\n",
    "            data = json.load(file)\n",
    "        data2 = [\n",
    "            {continent+\"_wiki\":\" \"},\n",
    "            {continent+\"_density\":density},\n",
    "            {continent+\"_population\":population},\n",
    "            {continent+\"_most_populous_contry\":most_country},\n",
    "            {continent+\"_most_populous_city\":most_city}\n",
    "        ]    \n",
    "        data[continent] = data2    \n",
    "        with open('data.json','w') as fp:\n",
    "            json.dump(data,fp)\n",
    "        \n",
    "        return 'Submitted form.'\n",
    "\n",
    "@app.route('/api/v1.0/newusers', methods = ['POST'])\n",
    "@auth.login_required\n",
    "def new_user():\n",
    "    #http://127.0.0.1:6878/api/v1.0/newusers\n",
    "    if request.method == 'POST':\n",
    "        with open('users.pass', 'r') as file:\n",
    "            data = file.readlines()\n",
    "            users=dict([i.split(':') for i in data])\n",
    "        user = request.json.get('username')\n",
    "        passw = request.json.get('password')\n",
    "        if user is None or passw is None:\n",
    "            abort(400) # missing arguments\n",
    "        if user in users:\n",
    "            return jsonify({\"answer\":\"User already exists\"})\n",
    "        with open('users.pass','w') as file:\n",
    "            for k,v in users.items():\n",
    "                file.write(k+\":\"+v)\n",
    "            file.write(user+':'+passw+'\\n')\n",
    "        return jsonify({\"answer\":\"New user registered\"})\n",
    "\n",
    "if __name__ == '__main__':\n",
    "    app.run(port=6878)"
   ]
  },
  {
   "cell_type": "code",
   "execution_count": null,
   "metadata": {},
   "outputs": [],
   "source": []
  }
 ],
 "metadata": {
  "kernelspec": {
   "name": "python3",
   "display_name": "Python 3.9.0 64-bit",
   "metadata": {
    "interpreter": {
     "hash": "7812ea015bdcee6f23a998adcdd2ef97c151c0c241b7b7070987d9313e41299d"
    }
   }
  },
  "language_info": {
   "codemirror_mode": {
    "name": "ipython",
    "version": 3
   },
   "file_extension": ".py",
   "mimetype": "text/x-python",
   "name": "python",
   "nbconvert_exporter": "python",
   "pygments_lexer": "ipython3",
   "version": "3.9.0-final"
  }
 },
 "nbformat": 4,
 "nbformat_minor": 2
}