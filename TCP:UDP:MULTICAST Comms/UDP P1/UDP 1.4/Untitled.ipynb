{
 "cells": [
  {
   "cell_type": "code",
   "execution_count": null,
   "metadata": {},
   "outputs": [
    {
     "name": "stdout",
     "output_type": "stream",
     "text": [
      "Connecting to server...\n"
     ]
    }
   ],
   "source": [
    "import socket, pickle, time\n",
    "from sys import argv\n",
    "\n",
    "msg = \"Hola que tal\"#input(\"Message> \")\n",
    "\n",
    "error = 1\n",
    "while error:\n",
    "    try:\n",
    "            ip = \"127.0.0.1\"#str(argv[1])\n",
    "            port = 6780#int(argv[2])\n",
    "            id = 1#id(argv[3])\n",
    "\n",
    "            message= (msg, id)\n",
    "            bytes_tx = pickle.dumps(message)\n",
    "\n",
    "            error= 0\n",
    "\n",
    "            server_address = (ip, port)\n",
    "            sck= socket.socket(family=socket.AF_INET, type=socket.SOCK_DGRAM)\n",
    "\n",
    "            try:\n",
    "                print(\"Connecting to server...\")\n",
    "\n",
    "                sck.sendto(bytes_tx, server_address)\n",
    "                bytes_rx = sck.recvfrom(1024)\n",
    "                print(\"RX: \",bytes_rx)\n",
    "            except:\n",
    "                try:\n",
    "                    print(\"Can't reach the server. Trying in 10 secs\")\n",
    "                    time.sleep(10)\n",
    "\n",
    "                    sck.sendto(bytes_tx, server_address)\n",
    "                    bytes_rx = sck.recvfrom(1024)\n",
    "                    print(\"RX: \",bytes_rx)\n",
    "                except:\n",
    "                    print(\"Can't connect to the server <TIMEOUT>\")\n",
    "\n",
    "            socket.close()\n",
    "\n",
    "    except ValueError:\n",
    "                error = 1\n",
    "                print(\"Check for valid arguments IP(XXX.XXX.XXX.XXX), PORT(XXXX) & ID(X) Where X is an INT.\")\n"
   ]
  },
  {
   "cell_type": "code",
   "execution_count": null,
   "metadata": {},
   "outputs": [],
   "source": []
  },
  {
   "cell_type": "code",
   "execution_count": null,
   "metadata": {},
   "outputs": [],
   "source": []
  },
  {
   "cell_type": "code",
   "execution_count": null,
   "metadata": {},
   "outputs": [],
   "source": []
  },
  {
   "cell_type": "code",
   "execution_count": null,
   "metadata": {},
   "outputs": [],
   "source": []
  },
  {
   "cell_type": "code",
   "execution_count": null,
   "metadata": {},
   "outputs": [],
   "source": []
  },
  {
   "cell_type": "code",
   "execution_count": 1,
   "metadata": {},
   "outputs": [
    {
     "ename": "NameError",
     "evalue": "name 'asd' is not defined",
     "output_type": "error",
     "traceback": [
      "\u001b[0;31m---------------------------------------------------------------------------\u001b[0m",
      "\u001b[0;31mNameError\u001b[0m                                 Traceback (most recent call last)",
      "\u001b[0;32m<ipython-input-1-1fd1a7bde442>\u001b[0m in \u001b[0;36m<module>\u001b[0;34m\u001b[0m\n\u001b[0;32m----> 1\u001b[0;31m \u001b[0masd\u001b[0m\u001b[0;34m\u001b[0m\u001b[0;34m\u001b[0m\u001b[0m\n\u001b[0m\u001b[1;32m      2\u001b[0m \u001b[0;34m\u001b[0m\u001b[0m\n",
      "\u001b[0;31mNameError\u001b[0m: name 'asd' is not defined"
     ]
    }
   ],
   "source": [
    "asd\n",
    "\n"
   ]
  },
  {
   "cell_type": "code",
   "execution_count": null,
   "metadata": {},
   "outputs": [],
   "source": []
  }
 ],
 "metadata": {
  "kernelspec": {
   "display_name": "Python 3",
   "language": "python",
   "name": "python3"
  },
  "language_info": {
   "codemirror_mode": {
    "name": "ipython",
    "version": 3
   },
   "file_extension": ".py",
   "mimetype": "text/x-python",
   "name": "python",
   "nbconvert_exporter": "python",
   "pygments_lexer": "ipython3",
   "version": "3.8.5"
  }
 },
 "nbformat": 4,
 "nbformat_minor": 4
}
