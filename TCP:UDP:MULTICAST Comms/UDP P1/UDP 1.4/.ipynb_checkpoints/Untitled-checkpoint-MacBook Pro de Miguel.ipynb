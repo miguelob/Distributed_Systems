{
 "cells": [
  {
   "cell_type": "code",
   "execution_count": null,
   "metadata": {},
   "outputs": [],
   "source": [
    "import socket, pickle, traceback, time\n",
    "from sys import argv\n",
    "\n",
    "error = 1\n",
    "time_acum = 1\n",
    "\n",
    "ip = \"127.0.0.1\" #str(argv[1])\n",
    "port = 6780#int(argv[2])\n",
    "id = 1#int(argv[3])\n",
    "text = \"Hola que tal\"#str(input(\"Please input the message: \"))\n",
    "\n",
    "while error:\n",
    "    try:   \n",
    "\n",
    "        server_address = (ip,port)\n",
    "        sck = socket.socket(family=socket.AF_INET, type=socket.SOCK_DGRAM)\n",
    "        sck.bind(server_address)\n",
    "        \n",
    "        tmp = 1\n",
    "        print(time_acum)\n",
    "        bytes_tx = (id, text)\n",
    "\n",
    "        \n",
    "        while tmp:\n",
    "            sck.sendto(pickle.dumps(bytes_tx),server_address)\n",
    "            \n",
    "        if time_acum == 4 and tmp == 0:\n",
    "        \n",
    "            bytes_rx = sck.recvfrom(1024)\n",
    "            message = pickle.loads(bytes_rx[0])\n",
    "            print(\"RX: \", message)\n",
    "            \n",
    "        else:\n",
    "            print(\"Max time reached. Pleasy try again later.\")\n",
    "    \n",
    "    except ValueError:\n",
    "        traceback.print_exc()\n",
    "        print(\"It has to be a number (e.g 6780)\")\n",
    "        error = 1\n",
    "    except:\n",
    "        print(\"entra exception\")\n",
    "        traceback.print_exc()\n",
    "        print(\"Waiting to connect: \" + str(time_acum*10) + \" seconds of 30 max\")\n",
    "        time_acum += 1\n",
    "        if time_acum == 4:\n",
    "            tmp = 0\n",
    "            break\n",
    "        time.sleep(10)\n",
    "        \n",
    "    \n"
   ]
  }
 ],
 "metadata": {
  "kernelspec": {
   "display_name": "Python 3",
   "language": "python",
   "name": "python3"
  },
  "language_info": {
   "codemirror_mode": {
    "name": "ipython",
    "version": 3
   },
   "file_extension": ".py",
   "mimetype": "text/x-python",
   "name": "python",
   "nbconvert_exporter": "python",
   "pygments_lexer": "ipython3",
   "version": "3.8.5"
  }
 },
 "nbformat": 4,
 "nbformat_minor": 4
}
